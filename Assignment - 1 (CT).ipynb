{
 "cells": [
  {
   "cell_type": "markdown",
   "id": "503ecc23-9b42-40e9-a9ed-8343a879b162",
   "metadata": {},
   "source": [
    "Assignment-1  celebal technologies\n"
   ]
  },
  {
   "cell_type": "markdown",
   "id": "ba4f98b7-a528-45a5-b0b5-872d95a1af08",
   "metadata": {},
   "source": [
    " . Create lower triangular, upper triangular and pyramid containing the \"*\" character."
   ]
  },
  {
   "cell_type": "markdown",
   "id": "6aae0fbd-6c0d-4625-ad2b-7b28bb8d9dc7",
   "metadata": {},
   "source": [
    " Lower Triangular Pattern "
   ]
  },
  {
   "cell_type": "code",
   "execution_count": 1,
   "id": "97a816dd-d78c-4c0f-830d-b802dcff066f",
   "metadata": {},
   "outputs": [
    {
     "name": "stdout",
     "output_type": "stream",
     "text": [
      "Lower Triangular Pattern:\n",
      "*\n",
      "**\n",
      "***\n",
      "****\n",
      "*****\n"
     ]
    }
   ],
   "source": [
    "rows = 5\n",
    "\n",
    "print(\"Lower Triangular Pattern:\")\n",
    "for i in range(1, rows + 1):\n",
    "    print(\"*\" * i)\n"
   ]
  },
  {
   "cell_type": "markdown",
   "id": "6989c6ec-e651-4d62-9c87-8c26fed03be2",
   "metadata": {},
   "source": [
    "Upper Triangular Pattern "
   ]
  },
  {
   "cell_type": "code",
   "execution_count": 2,
   "id": "efb155ca-a6d6-4fd5-af57-6305d52237e6",
   "metadata": {},
   "outputs": [
    {
     "name": "stdout",
     "output_type": "stream",
     "text": [
      "\n",
      "Upper Triangular Pattern:\n",
      "    *\n",
      "   **\n",
      "  ***\n",
      " ****\n",
      "*****\n"
     ]
    }
   ],
   "source": [
    "rows = 5\n",
    "\n",
    "print(\"\\nUpper Triangular Pattern:\")\n",
    "for i in range(1, rows + 1):\n",
    "    print(\" \" * (rows - i) + \"*\" * i)\n"
   ]
  },
  {
   "cell_type": "markdown",
   "id": "44f2ff45-54de-4fd1-9b87-265cfa5305a4",
   "metadata": {},
   "source": [
    "Pyramid Pattern"
   ]
  },
  {
   "cell_type": "code",
   "execution_count": 3,
   "id": "0cc0a1ee-90df-4ab3-ae72-340948d687ee",
   "metadata": {},
   "outputs": [
    {
     "name": "stdout",
     "output_type": "stream",
     "text": [
      "\n",
      "Pyramid Pattern:\n",
      "    *\n",
      "   ***\n",
      "  *****\n",
      " *******\n",
      "*********\n"
     ]
    }
   ],
   "source": [
    "rows = 5\n",
    "\n",
    "print(\"\\nPyramid Pattern:\")\n",
    "for i in range(1, rows + 1):\n",
    "    print(\" \" * (rows - i) + \"*\" * (2 * i - 1))\n"
   ]
  },
  {
   "cell_type": "code",
   "execution_count": null,
   "id": "6c5986a3-be7f-4556-ab28-4d4f6af49a27",
   "metadata": {},
   "outputs": [],
   "source": []
  }
 ],
 "metadata": {
  "kernelspec": {
   "display_name": "Python 3 (ipykernel)",
   "language": "python",
   "name": "python3"
  },
  "language_info": {
   "codemirror_mode": {
    "name": "ipython",
    "version": 3
   },
   "file_extension": ".py",
   "mimetype": "text/x-python",
   "name": "python",
   "nbconvert_exporter": "python",
   "pygments_lexer": "ipython3",
   "version": "3.12.7"
  }
 },
 "nbformat": 4,
 "nbformat_minor": 5
}
